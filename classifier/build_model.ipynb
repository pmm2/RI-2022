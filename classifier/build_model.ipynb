{
 "cells": [
  {
   "cell_type": "markdown",
   "id": "b86b22e1",
   "metadata": {},
   "source": [
    "Generating final model to be used in the application with the optimized parameters from the optimization."
   ]
  },
  {
   "cell_type": "code",
   "execution_count": null,
   "id": "01a9b3b1",
   "metadata": {},
   "outputs": [],
   "source": [
    "import json\n",
    "\n",
    "data_file = open(\"./training_data_set.json\")\n",
    "raw_data = json.load(data_file)\n",
    "data_file.close()\n",
    "\n",
    "sites = raw_data.get(\"sitesAndTags\", [])\n",
    "print(\"Quantidade total de sites:\", len(sites))"
   ]
  },
  {
   "cell_type": "markdown",
   "id": "926f43b9",
   "metadata": {},
   "source": [
    "Optimized parameters:\n",
    "clf__bootstrap: False\n",
    "clf__max_depth: 40\n",
    "clf__min_samples_leaf: 1\n",
    "clf__min_samples_split: 10\n",
    "clf__n_estimators: 200\n",
    "tfidf__use_idf: False\n",
    "vect__max_features: 10000\n",
    "vect__min_df: 0.005\n",
    "vect__ngram_range: (1, 2)\n",
    "\n",
    "Stats for optimized random forest\n",
    "Precision: [0.95652174 0.81481481]\n",
    "recall: [0.81481481 0.95652174]\n",
    "f1: [0.88 0.88]"
   ]
  },
  {
   "cell_type": "code",
   "execution_count": null,
   "id": "96b1ca85",
   "metadata": {},
   "outputs": [],
   "source": [
    "from sklearn.feature_extraction.text import CountVectorizer, TfidfTransformer\n",
    "from sklearn.pipeline import Pipeline\n",
    "from sklearn.ensemble import RandomForestClassifier\n",
    "\n",
    "chosen_model_pipeline = Pipeline([\n",
    "    ('vect', CountVectorizer(max_features=10000, min_df=0.005, ngram_range=(1, 2))),\n",
    "    ('tfidf', TfidfTransformer(use_idf=False)),\n",
    "    ('clf', RandomForestClassifier(bootstrap=False, max_depth=40, min_samples_leaf=1, min_samples_split=10, n_estimators=200)),\n",
    "])\n",
    "\n",
    "chosen_model_pipeline.fit(X_train, y_train)"
   ]
  },
  {
   "cell_type": "markdown",
   "id": "aae91c08",
   "metadata": {},
   "source": [
    "Model persistence. The model can be loaded from the generated pickle file to be used in running python processes without the need of retraining it everytime."
   ]
  },
  {
   "cell_type": "code",
   "execution_count": null,
   "id": "3a10db28",
   "metadata": {},
   "outputs": [],
   "source": [
    "from joblib import dump\n",
    "\n",
    "dump(chosen_model, './persistence/classifier_model.joblib')\n",
    "\n",
    "# Can be loaded with:\n",
    "# from joblib import load\n",
    "\n",
    "# chosen_model = gnb\n",
    "# classifier_model = ('./persistence/classifier_model.joblib')\n",
    "# predictions = classifier_model.predict(url_list)"
   ]
  }
 ],
 "metadata": {
  "kernelspec": {
   "display_name": "Python 3.10.4 64-bit",
   "language": "python",
   "name": "python3"
  },
  "language_info": {
   "name": "python",
   "version": "3.10.4"
  },
  "vscode": {
   "interpreter": {
    "hash": "916dbcbb3f70747c44a77c7bcd40155683ae19c65e1c03b4aa3499c5328201f1"
   }
  }
 },
 "nbformat": 4,
 "nbformat_minor": 5
}
