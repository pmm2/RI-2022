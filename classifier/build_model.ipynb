{
 "cells": [
  {
   "cell_type": "markdown",
   "id": "b86b22e1",
   "metadata": {},
   "source": [
    "Generating final model to be used in the application with the optimized parameters from the optimization."
   ]
  },
  {
   "cell_type": "code",
   "execution_count": null,
   "id": "01a9b3b1",
   "metadata": {},
   "outputs": [],
   "source": [
    "chosen_model = "
   ]
  },
  {
   "cell_type": "markdown",
   "id": "aae91c08",
   "metadata": {},
   "source": [
    "Model persistence. The model can be loaded from the generated pickle file to be used in running python processes without the need of retraining it everytime."
   ]
  },
  {
   "cell_type": "code",
   "execution_count": null,
   "id": "3a10db28",
   "metadata": {},
   "outputs": [],
   "source": [
    "from joblib import dump\n",
    "\n",
    "dump(chosen_model, './persistence/classifier_model.joblib')\n",
    "\n",
    "# Can be loaded with:\n",
    "# from joblib import load\n",
    "\n",
    "# chosen_model = gnb\n",
    "# classifier_model = ('./persistence/classifier_model.joblib')\n",
    "# predictions = classifier_model.predict(url_list)"
   ]
  }
 ],
 "metadata": {
  "kernelspec": {
   "display_name": "Python 3.10.4 64-bit",
   "language": "python",
   "name": "python3"
  },
  "language_info": {
   "name": "python",
   "version": "3.10.4"
  },
  "vscode": {
   "interpreter": {
    "hash": "916dbcbb3f70747c44a77c7bcd40155683ae19c65e1c03b4aa3499c5328201f1"
   }
  }
 },
 "nbformat": 4,
 "nbformat_minor": 5
}
