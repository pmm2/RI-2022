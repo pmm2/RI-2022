{
 "cells": [
  {
   "cell_type": "code",
   "execution_count": 22,
   "metadata": {},
   "outputs": [
    {
     "name": "stdout",
     "output_type": "stream",
     "text": [
      "Quantidade total de sites: 200\n"
     ]
    }
   ],
   "source": [
    "import json\n",
    "\n",
    "data_file = open(\"./training_data_set.json\")\n",
    "raw_data = json.load(data_file)\n",
    "data_file.close()\n",
    "\n",
    "sites = raw_data.get(\"sitesAndTags\", [])\n",
    "print(\"Quantidade total de sites:\", len(sites))"
   ]
  },
  {
   "cell_type": "code",
   "execution_count": 23,
   "metadata": {},
   "outputs": [
    {
     "name": "stdout",
     "output_type": "stream",
     "text": [
      "https://www.bigboygames.com.br/jogo-fallen-legion-revenants-vanguard-edition-nintendo-switch\n",
      "https://www.bigboygames.com.br/world-of-warriors-ps4-4955-p993556\n",
      "https://www.bigboygames.com.br/jogo-monster-hunter-world-seminovo-ps4-11807-br-p1006227\n",
      "https://www.bigboygames.com.br/jogo-back-4-blood-xbox-one\n",
      "https://www.bigboygames.com.br/jogo-far-cry-6-xbox-one-p1006787\n",
      "https://www.bigboygames.com.br/controle-baseus-sem-fio-transparente-seminovo-nintendo-switch\n",
      "https://www.bigboygames.com.br/cartao-xbox-live-brasil-r200-5598-p995690\n",
      "https://www.bigboygames.com.br/case-zelda-botw-seminovo-nintendo-switch-lite-15816\n",
      "https://www.bigboygames.com.br/console-nintendo-switch-lite-amarelo-seminovo-16101\n",
      "https://www.bigboygames.com.br/case-protetora-nintendo-swtich-lite-cinza-amarelo-14940\n",
      "https://www.ibyte.com.br/jogo-hades-xbox/p\n",
      "https://www.ibyte.com.br/marvel-s-spider-man-miles-morales-ps5/p\n",
      "https://www.ibyte.com.br/game-fifa-18-xbox-one/p\n",
      "https://www.shockgames.com.br/produto/horizon-zero-dawn-forbidden-west-ps5.html\n",
      "https://www.shockgames.com.br/fifa-22-ps5\n",
      "https://www.shockgames.com.br/demons-souls-ps5\n",
      "https://www.ibyte.com.br/controle-gamer-multilaser-warrior-takeo-bluetooth-js088/p\n",
      "https://www.ibyte.com.br/headset-gamer-sem-fio-microsoft-xbox-series-x-s-tll-00008/p\n",
      "https://www.ibyte.com.br/placa-de-video-galax-geforce-rtx-2060-plus-12gb-gddr6-192-bit-1-click-oc-ray-tracing-26nrl7hp68nc/p\n",
      "https://www.shockgames.com.br/controle-dualsense-ps5\n",
      "https://www.shockgames.com.br/produto/quadro-valorant-325-x-43cm.html\n",
      "https://www.shockgames.com.br/produto/funko-pop-scooby-doo-shaggy-626.html\n",
      "https://www.shockgames.com.br/produto/estatua-tanjiro-kamado-i-maximatic.html\n",
      "https://lojaarenagames.com.br/super-mario-odyssey-nintendo-switch-jogo-midia-fisica/\n",
      "https://lojaarenagames.com.br/pes-2013-ps3-1-riscos-com-detalhe/\n",
      "https://lojaarenagames.com.br/apache-air-assault-ps3/\n",
      "https://lojaarenagames.com.br/adventure-time-as-investigacoes-de-finn-e-jake-ps3-novo/\n",
      "https://lojaarenagames.com.br/alex-kidd-in-miracle-world-dx-ps4-com-chaveiro-jogo-midia-fisica-seminovo/\n",
      "https://lojaarenagames.com.br/funko-pop-caterpie-pokemon/\n",
      "https://lojaarenagames.com.br/funko-pop-keyleth-605-critical-role/\n",
      "https://lojaarenagames.com.br/funko-pop-games-doom-space-marine-90-elite-red-suit-vaulted-1-com-detalhe/\n",
      "https://lojaarenagames.com.br/caneca-oval-sonic-350ml/\n",
      "https://lojaarenagames.com.br/almofada-cavaleiros-do-zodiaco-formato-urna-fibra-poliester/\n",
      "https://www.vnsgames.com.br/ps4/aventura/little-nightmares-complete-edition-ps4\n",
      "https://www.vnsgames.com.br/ps4/acao/horizon-forbidden-west-ps4\n",
      "https://www.vnsgames.com.br/ps4/corrida/gran-turismo-7-ps4\n",
      "https://www.vnsgames.com.br/ps4/aventura/little-nightmares-complete-edition-ps4\n",
      "https://www.vnsgames.com.br/xbox-one/acao/ark-survival-evolved-xbox-one\n",
      "https://www.vnsgames.com.br/acessorios/controle-power-a-com-fio-nintendo-switch-pikachu-grey\n",
      "https://www.vnsgames.com.br/acessorios/controle-power-a-com-fio-nintendo-switch-pikachu-charge\n",
      "https://www.fastshop.com.br/web/p/d/HAEA3077AN_PRD/jogo-formula-1-br-para-ps4\n",
      "https://www.fastshop.com.br/web/p/d/SO00742601_PRD/jogo-deathloop-para-ps5\n",
      "https://www.fastshop.com.br/web/p/d/SO3005771_PRD/jogo-gran-turismo-7-edicao-standard-para-ps5\n",
      "https://www.fastshop.com.br/web/p/d/UB2036AL_PRD/jogo-far-cry-6-para-ps5\n",
      "https://www.fastshop.com.br/web/p/d/WRWG5353AN_PRD/jogo-back-4-blood-para-ps5\n",
      "https://www.fastshop.com.br/web/p/d/6869202829_PRD/computador-desktop-dell-vostro-3681-m20m-10a-geracao-intel-core-i5-8gb-1tb-windows-10-cpm-monitor-21\n",
      "https://www.fastshop.com.br/web/p/d/EXDM84X_PRD/refrigerador-multidoor-electrolux-de-03-portas-frost-free-com-579-litros-painel-eletronico-inox-dm84x\n",
      "https://www.fastshop.com.br/web/p/d/EXMI41S_PRD/micro-ondas-electrolux-com-31-litros-de-capacidade-prata-mi41s\n",
      "https://www.fastshop.com.br/web/p/d/SGLU32J590UQ_PRD/monitor-uhd-samsung-32-4k-hdmi-display-port-freesync-preto-serie-uj590\n",
      "https://www.fastshop.com.br/web/p/d/I4HISC1080BCO_PRD/camera-inteligente-wi-fi-compatvel-com-ios-versao-90-e-android-versao-50-e-controle-por-app-hi-geonav\n",
      "https://www.futuristicgames.com.br/horizon-forbidden-west-standard-edition-sony-ps5-fisico/p/MLB18506507?pdp_filters=category:MLB1144%7Cseller_id:161960254#position=2&search_layout=grid&type=item&tracking_id=e23b1583-7c0d-46fc-8fd5-6811ad0535bd\n",
      "https://www.futuristicgames.com.br/grand-theft-auto-v-standard-edition-rockstar-games-ps3-fisico/p/MLB6084030?pdp_filters=category:MLB1144%7Cseller_id:161960254#position=3&search_layout=grid&type=item&tracking_id=e23b1583-7c0d-46fc-8fd5-6811ad0535bd\n",
      "https://www.futuristicgames.com.br/far-cry-6-standard-edition-ubisoft-ps4-fisico/p/MLB18500304?pdp_filters=category:MLB1144%7Cseller_id:161960254#position=5&search_layout=grid&type=item&tracking_id=e23b1583-7c0d-46fc-8fd5-6811ad0535bd\n",
      "https://www.futuristicgames.com.br/the-legend-of-zelda-skyward-sword-25th-anniversary-special-edition-nintendo-wii-fisico/p/MLB15315759?pdp_filters=category:MLB1144%7Cseller_id:161960254#position=9&search_layout=grid&type=item&tracking_id=12948c8d-15c2-43b1-8a02-a8d88f061941\n",
      "https://www.futuristicgames.com.br/demons-souls-remake-standard-edition-sony-ps5-fisico/p/MLB16273091?pdp_filters=category:MLB1144%7Cseller_id:161960254#position=8&search_layout=grid&type=item&tracking_id=e23b1583-7c0d-46fc-8fd5-6811ad0535bd\n",
      "https://www.futuristicgames.com.br/controle-joystick-sem-fio-sony-playstation-dualsense-cfi-zct1-white-e-black/p/MLB16212928?pdp_filters=category:MLB1144%7Cseller_id:161960254#position=6&search_layout=grid&type=item&tracking_id=e23b1583-7c0d-46fc-8fd5-6811ad0535bd\n",
      "https://www.futuristicgames.com.br/controle-joystick-sem-fio-microsoft-xbox-wireless-controller-series-xs-shock-blue/p/MLB16268159?pdp_filters=category:MLB1144%7Cseller_id:161960254#position=4&search_layout=grid&type=item&tracking_id=e23b1583-7c0d-46fc-8fd5-6811ad0535bd\n",
      "https://www.futuristicgames.com.br/controle-joystick-sem-fio-sony-playstation-dualshock-4-magma-red/p/MLB10312333?pdp_filters=category:MLB1144%7Cseller_id:161960254#position=9&search_layout=grid&type=item&tracking_id=e23b1583-7c0d-46fc-8fd5-6811ad0535bd\n",
      "https://www.futuristicgames.com.br/microsoft-xbox-series-s-512gb-standard-cor-branco/p/MLB16650345?pdp_filters=category:MLB1144%7Cseller_id:161960254#position=1&search_layout=grid&type=item&tracking_id=e23b1583-7c0d-46fc-8fd5-6811ad0535bd\n",
      "https://www.futuristicgames.com.br/fone-de-ouvido-over-ear-gamer-sem-fio-playstation-pulse-3d-preto/p/MLB19038910?pdp_filters=category:MLB1144%7Cseller_id:161960254#position=11&search_layout=grid&type=item&tracking_id=e23b1583-7c0d-46fc-8fd5-6811ad0535bd\n",
      "https://www.futuristicgames.com.br/ghost-of-tsushima-standard-edition-sony-ps4-fisico/p/MLB15908185?pdp_filters=category:MLB1144%7Cseller_id:161960254#position=7&search_layout=grid&type=item&tracking_id=e23b1583-7c0d-46fc-8fd5-6811ad0535bd\n",
      "https://www.futuristicgames.com.br/ufc-3-standard-edition-electronic-arts-xbox-one-fisico/p/MLB10663958?pdp_filters=category:MLB1144%7Cseller_id:161960254#position=22&search_layout=grid&type=item&tracking_id=a55a9fa3-a45f-44ba-9d8f-1dbaab1f5fa5\n",
      "https://www.futuristicgames.com.br/street-fighter-v-champion-edition-capcom-ps4-fisico/p/MLB15509269?pdp_filters=category:MLB1144%7Cseller_id:161960254#position=7&search_layout=grid&type=item&tracking_id=a55a9fa3-a45f-44ba-9d8f-1dbaab1f5fa5\n",
      "https://www.futuristicgames.com.br/lego-marvels-avengers-standard-edition-warner-bros-ps4-fisico/p/MLB6141065?pdp_filters=category:MLB1144%7Cseller_id:161960254#position=9&search_layout=grid&type=item&tracking_id=a55a9fa3-a45f-44ba-9d8f-1dbaab1f5fa5\n",
      "https://www.futuristicgames.com.br/burnout-paradise-remastered-electronic-arts-ps4-fisico/p/MLB15259265?pdp_filters=category:MLB1144%7Cseller_id:161960254#position=14&search_layout=grid&type=item&tracking_id=a55a9fa3-a45f-44ba-9d8f-1dbaab1f5fa5\n",
      "https://www.futuristicgames.com.br/MLB-2204124250-kit-de-protecao-e-patins-infantil-tam-32-a-35-bbr-toys-r2943-_JM#position=3&search_layout=stack&type=item&tracking_id=60318171-262b-4db7-824b-cae433c37c16\n",
      "https://www.futuristicgames.com.br/MLB-1709204812-play-doh-kit-de-pintura-meu-pequeno-artista-da-fun-80059-_JM#position=1&search_layout=grid&type=item&tracking_id=8caed409-c581-417e-921a-25206f528056\n",
      "https://www.futuristicgames.com.br/barbeador-philips-oneblade-qp2510-verde-lima-e-cinza-marengo-100v240v/p/MLB15963600\n",
      "https://www.futuristicgames.com.br/roteador-repetidor-sistema-wi-fi-mesh-access-point-wisp-d-link-dir-842-preto-100v240v/p/MLB15994670\n",
      "https://www.futuristicgames.com.br/jogo-de-mesa-jogo-da-vida-com-aplicativo-estrela/p/MLB8938082\n",
      "https://www.shockgames.com.br/produto/metro-exodus-complete-edition-xbox.html\n",
      "https://www.shockgames.com.br/produto/estatua-my-hero-academia-hawks-banpresto.html\n",
      "https://www.ibyte.com.br/sackboy--uma-grande-aventura-ps5/p\n",
      "https://www.ibyte.com.br/cadeira-gamer-gt-black-com-almofadas-e-lombar/p\n",
      "https://www.bigboygames.com.br/jogo-paw-patrol-the-movie-adventure-city-calls-switch\n",
      "https://www.bigboygames.com.br/boneco-nba-lebron-james-los-angeles-lakers-16058\n",
      "https://www.ibyte.com.br/returnal-ps5/p\n",
      "https://www.ibyte.com.br/placa-de-video-geforce-gtx-1660-1-click-oc-6gb-gddr5-192bits-galax-60srh7dsy91c/p\n",
      "https://www.ibyte.com.br/ghost-of-tsushima-versao-do-diretor-ps5/p\n",
      "https://www.ibyte.com.br/smartphone-motorola-e32-64gb-4gb-ram-tela-6-5-camera-tripla-traseira-bateria-de-5000mah-rose/p\n",
      "https://lojaarenagames.com.br/zombie-army-4-day-one-edition-ps4-jogo-midia-fisica/\n",
      "https://lojaarenagames.com.br/funko-pop-television-la-casa-de-papel-el-profesor-915-clown/\n",
      "https://lojaarenagames.com.br/metal-gear-solid-v-ground-zeroes-ps3-2/\n",
      "https://lojaarenagames.com.br/pc-gamer-187-novo/\n",
      "https://www.futuristicgames.com.br/batman-return-to-arkham-standard-edition-warner-bros-xbox-one-fisico/p/MLB15755064?pdp_filters=category:MLB1144%7Cseller_id:161960254#position=34&search_layout=grid&type=item&tracking_id=68e8d942-ff0c-4536-a6ef-b46755ea4a43\n",
      "https://www.futuristicgames.com.br/MLB-1259585362-novo-brinquedo-boneco-mini-figura-ninjas-surpresa-dtc-4192-_JM#position=1&search_layout=grid&type=item&tracking_id=5b57e664-1345-48f4-98c1-1773035e3815\n",
      "https://www.futuristicgames.com.br/resident-evil-5-standard-edition-capcom-ps3-fisico/p/MLB6228701?pdp_filters=category:MLB1144%7Cseller_id:161960254#position=40&search_layout=grid&type=item&tracking_id=d0746d2d-5230-47b8-9ee4-bdf9b299b76c\n",
      "https://www.futuristicgames.com.br/MLB-1254876064-novo-mini-figura-de-acao-marvel-vingadores-hulk-hasbro-e4353-_JM#reco_item_pos=2&reco_backend=machinalis-seller-items&reco_backend_type=function&reco_client=vip-seller_items_above-shops&reco_id=1270dbc5-2ecc-4827-823b-d16286114b22\n",
      "https://www.shockgames.com.br/one-punch-man-a-hero-nobody-knows-xbox-one\n",
      "https://www.shockgames.com.br/produto/guitar-hero-live-usado-xbox-one.html\n",
      "https://www.shockgames.com.br/prey-xbox-one\n",
      "https://www.shockgames.com.br/produto/anthem-usado-xbox-one.html\n",
      "https://www.shockgames.com.br/nintendo-joy-con-lr-neon-redneon-blue\n",
      "https://www.shockgames.com.br/taco-gato-cabra-queijo-pizza\n",
      "https://www.shockgames.com.br/splendor\n",
      "https://www.shockgames.com.br/produto/headset-razer-kaira-x-xbox-one.html\n",
      "https://www.shockgames.com.br/persona-5-strikers-ps4\n",
      "https://www.shockgames.com.br/sonic-mania-plus-ps4\n",
      "https://www.shockgames.com.br/playstation-camera-hd-sony-ps5\n",
      "https://www.shockgames.com.br/playstation-5-sony\n",
      "https://www.shockgames.com.br/super-mario-3d-all-stars-switch\n",
      "https://www.ibyte.com.br/game-ufc-2-xbox-one/p\n",
      "https://www.ibyte.com.br/game-fifa-19-xbox-one/p\n",
      "https://www.ibyte.com.br/bloodborne-hits-ps4-p4da00730801fgm/p\n",
      "https://www.ibyte.com.br/knack-ps4-ps43000160/p\n",
      "https://www.ibyte.com.br/dreams-ps4-p4sa00737601fgm/p\n",
      "https://www.ibyte.com.br/caixa-de-som-jbl-go-2-bluetooth-a-prova-d-agua-3-1w-canela/p\n",
      "https://www.ibyte.com.br/caixa-de-som-jbl-boombox-2-bluetooth-squad-jblboombox2squadbr/p\n",
      "https://www.ibyte.com.br/microfone-hyperx-solocast/p\n",
      "https://www.ibyte.com.br/monitor-gamer-samsung-odyssey-24-fhd-144hz-1ms-com-ajuste-de-altura-hdmi-dp-vga-freesync-preto-serie-g3-lf24g35tfwlxzd/p\n",
      "https://www.ibyte.com.br/nintendo-switch-32gb-controle-jay-con-colorido/p\n",
      "https://www.fastshop.com.br/web/p/d/SOUNCHARTED5_PRD/jogo-uncharted-colecao-legado-dos-ladroes-para-ps5\n",
      "https://www.fastshop.com.br/web/p/d/SO711719545927_PRD/jogo-ratchet-clank-em-uma-outra-dimensao-para-ps5\n",
      "https://www.fastshop.com.br/web/p/d/3000842004_PRD/bee-simulator-ps4\n",
      "https://www.fastshop.com.br/web/p/d/3000842786_PRD/the-smurfs-mission-vileaf-smurftastic-edition-ps4\n",
      "https://www.fastshop.com.br/web/p/d/3000448185_PRD/kit-controle-dualshock-3-wireless-compatvel-com-ps3-2-unidades-branco\n",
      "https://www.fastshop.com.br/web/p/d/JBLENDURACEPTO_PRD/fone-de-ouvido-bluetooth-jbl-endurance-race-tws-preto-ate-30h-de-bateria-a-prova-dagua-e-resistente-a-poeira-ip67\n",
      "https://www.fastshop.com.br/web/p/d/SOCJ3006656B14/playstation-5-com-825-gb-e-01-controle-dualsense-sem-fio-controle-sem-fio-dualsense-sony-starlight-blue\n",
      "https://www.fastshop.com.br/web/p/d/SO3005769BCO_PRD/controle-de-mdia-para-playstation5-sony\n",
      "https://www.fastshop.com.br/web/p/d/L571740COL_PRD/lego-ninjago-o-electromech-de-jay-71740\n",
      "https://www.fastshop.com.br/web/\n",
      "https://www.fastshop.com.br/web/checkout-v2/login\n",
      "https://listadecasamento.fastshop.com.br/lista/home\n",
      "https://www.fastshop.com.br/web/c/4611686018425427196/apple\n",
      "https://www.fastshop.com.br/web/c/4611686018425452528/loja-disney\n",
      "https://www.fastshop.com.br/web/autoatendimento/protecao-de-dados\n",
      "https://www.fastshop.com.br/web/i/politica_de_privacidade\n",
      "https://www.fastshop.com.br/web/i/termos_e_condicoes_de_venda\n",
      "https://www.fastshop.com.br/web/i/lojas\n",
      "https://www.fastshop.com.br/web/a/imprensa\n",
      "https://www.fastshop.com.br/web/i/institucional\n",
      "https://www.fastshop.com.br/web/a/imprensa\n",
      "https://www.ibyte.com.br/login?ReturnUrl=%2f_secure%2faccount%2f#/orders\n",
      "https://www.ibyte.com.br/sobre-nos\n",
      "https://www.ibyte.com.br/nossas-lojas\n",
      "https://www.ibyte.com.br/iso9001\n",
      "https://www.ibyte.com.br/trabalhe-conosco\n",
      "https://www.ibyte.com.br/erratas\n",
      "https://www.ibyte.com.br/goldentec\n",
      "https://www.ibyte.com.br/gamer\n",
      "https://www.ibyte.com.br/ibyte-service\n",
      "https://www.shockgames.com.br/pagina/quem-somos.html\n",
      "https://www.shockgames.com.br/pagina/trabalhe-conosco.html\n",
      "https://www.shockgames.com.br/pagina/politicas-de-troca-ou-devolucao.html\n",
      "https://www.shockgames.com.br/pagina/politicas-de-privacidade.html\n",
      "https://www.shockgames.com.br/pagina/projeto-reload-a-shock-compra-seu-usado.html\n",
      "https://www.futuristicgames.com.br/lista/games/\n",
      "https://www.futuristicgames.com.br/sobre-nos\n",
      "https://www.futuristicgames.com.br/sac\n",
      "https://www.futuristicgames.com.br/\n",
      "https://lojaarenagames.com.br/\n",
      "https://lojaarenagames.com.br/loja/?filter_marca=ubisoft\n",
      "https://lojaarenagames.com.br/minha-conta/orders/\n",
      "https://lojaarenagames.com.br/minha-conta/\n",
      "https://www.bigboygames.com.br/manutencao-de-consoles-e-acessorios\n",
      "https://www.bigboygames.com.br/venda-seu-jogo\n",
      "https://www.bigboygames.com.br/institucional\n",
      "https://www.bigboygames.com.br/pagamento\n",
      "https://www.vnsgames.com.br/\n",
      "https://www.vnsgames.com.br/empresa\n",
      "https://www.vnsgames.com.br/ps2/mega-man-anniversary-collection-ps2\n",
      "https://www.vnsgames.com.br/ps2/mega-man-x-collection-ps2\n",
      "https://www.vnsgames.com.br/switch/acao/indivisible-nintendo-switch\n",
      "https://www.vnsgames.com.br/switch/acao/gang-beasts-nintendo-switch\n",
      "https://www.vnsgames.com.br/switch/acao/subnautica-subnautica-below-zero-switch\n",
      "https://www.vnsgames.com.br/switch/acao/the-wonderful-101-remastered-switch\n",
      "https://www.vnsgames.com.br/switch/acao/dragon-ball-fighter-z-switch\n",
      "https://www.bigboygames.com.br/sonic-and-all-stars-racing-transformed-ps3-314-p985381\n",
      "https://www.bigboygames.com.br/joog-dirt-shwodown-ps3-as-15941\n",
      "https://www.bigboygames.com.br/luigis-mansion-dark-moon-3ds-1400-p986926\n",
      "https://www.bigboygames.com.br/mario-luigi-dream-team-3ds-93-p985424\n",
      "https://www.bigboygames.com.br/jogo-the-legend-of-zelda-ocarina-of-time-3d-3ds-us-p1008446\n",
      "https://www.bigboygames.com.br/hellpoint-switch-13463\n",
      "https://www.bigboygames.com.br/borderlands-legendary-collection-switch-eur-12809-p1008423\n",
      "https://www.bigboygames.com.br/spirit-hunter-switch-10342-p1002820\n",
      "https://www.shockgames.com.br/produto/pokemon-shining-pearl-switch.html\n",
      "https://www.shockgames.com.br/sonic-forces-switch\n",
      "https://www.shockgames.com.br/produto/pikmin-3-deluxe-switch.html\n",
      "https://www.shockgames.com.br/pokemon-shield-switch\n",
      "https://www.shockgames.com.br/NSWJ-069\n",
      "https://www.shockgames.com.br/astral-chain-switch\n",
      "https://www.shockgames.com.br/bayonetta-2-switch\n",
      "https://lojaarenagames.com.br/super-mario-odyssey-nintendo-switch-jogo-midia-fisica/\n",
      "https://lojaarenagames.com.br/new-super-mario-bros-u-deluxe-nintendo-switch-jogo-midia-fisica-seminovo/\n",
      "https://lojaarenagames.com.br/fatal-frame-maiden-of-black-water-nintendo-switch-jogo-midia-fisica/\n",
      "https://lojaarenagames.com.br/animal-crossing-new-horizons-nintendo-switch/\n",
      "https://lojaarenagames.com.br/jump-force-deluxe-edition-nintendo-switch/\n",
      "https://lojaarenagames.com.br/pokemon-lets-go-eevee-nintendo-switch-seminovo/\n",
      "https://www.futuristicgames.com.br/MLB-1813199703-jogo-midia-fisica-avatar-the-last-airbender-original-psp-_JM#position=1&search_layout=grid&type=item&tracking_id=44e72dd6-3ef8-4ce1-809c-6af79f272c99\n",
      "https://www.futuristicgames.com.br/MLB-1788682013-jogo-midia-fisica-fifa-soccer-2010-original-ea-games-psp-_JM#position=2&search_layout=grid&type=item&tracking_id=44e72dd6-3ef8-4ce1-809c-6af79f272c99\n",
      "https://www.futuristicgames.com.br/MLB-1813399545-jogo-midia-fisica-battlezone-para-play-station-portatil-psp-_JM#position=6&search_layout=grid&type=item&tracking_id=44e72dd6-3ef8-4ce1-809c-6af79f272c99\n",
      "https://www.futuristicgames.com.br/MLB-1020419713-jogo-midia-fisica-lacrado-nintendo-switch-superbeat-xonic-_JM#position=3&search_layout=grid&type=item&tracking_id=bf8bbb69-3a9a-4755-a0ec-9fc96d251fce\n",
      "https://www.futuristicgames.com.br/MLB-2748439999-jogo-the-alliance-alive-hd-remastered-para-nintendo-switch-_JM#position=5&search_layout=grid&type=item&tracking_id=bf8bbb69-3a9a-4755-a0ec-9fc96d251fce\n",
      "https://www.futuristicgames.com.br/MLB-2748414766-jogo-trine-ultimate-collection-para-nintendo-switch-_JM#position=12&search_layout=grid&type=item&tracking_id=bf8bbb69-3a9a-4755-a0ec-9fc96d251fce\n",
      "https://www.ibyte.com.br/game-pes-pro-evolution-soccer-2019-xbox-one/p\n",
      "https://www.ibyte.com.br/concrete-genie-ps4-p4sa00735101fgm/p\n",
      "https://www.ibyte.com.br/until-dawn-hits-ps4-p4da00730701fgm/p\n",
      "https://www.ibyte.com.br/jogo-aliens-fireteam-elite-2021-ps4/p\n",
      "https://www.fastshop.com.br/web/p/d/3000365594_PRD/jogo-rocket-arena-mythic-edition-online-ps4\n",
      "https://www.fastshop.com.br/web/p/d/3000842746_PRD/the-elder-scrolls-v-skyrim-ps3\n"
     ]
    }
   ],
   "source": [
    "from sklearn.model_selection import train_test_split\n",
    "import requests\n",
    "from bs4 import BeautifulSoup\n",
    "\n",
    "# Function to remove tags\n",
    "def remove_tags(html):\n",
    "    soup = BeautifulSoup(html, \"html.parser\")\n",
    "  \n",
    "    for data in soup(['style', 'script']):\n",
    "        data.decompose()\n",
    "  \n",
    "    return ' '.join(soup.stripped_strings)\n",
    "\n",
    "sites_contents = []\n",
    "y_sites = []\n",
    "\n",
    "for [url, usefulness] in sites:\n",
    "    r = requests.get(url)\n",
    "    filtered_content = remove_tags(r.content)\n",
    "    sites_contents.append(filtered_content)\n",
    "    y_sites.append(usefulness)\n",
    "    print(url)"
   ]
  },
  {
   "cell_type": "code",
   "execution_count": 24,
   "metadata": {},
   "outputs": [],
   "source": [
    "from sklearn.feature_extraction.text import CountVectorizer, TfidfTransformer\n",
    "from sklearn.model_selection import GridSearchCV\n",
    "from sklearn.linear_model import SGDClassifier\n",
    "from sklearn.pipeline import Pipeline\n",
    "from sklearn.metrics import precision_recall_fscore_support"
   ]
  },
  {
   "cell_type": "code",
   "execution_count": 25,
   "metadata": {},
   "outputs": [],
   "source": [
    "from sklearn.model_selection import train_test_split\n",
    "\n",
    "X_train, X_test, y_train, y_test = train_test_split(sites_contents, y_sites, random_state = 1337)"
   ]
  },
  {
   "cell_type": "markdown",
   "metadata": {},
   "source": [
    "Otimização do modelo SVM"
   ]
  },
  {
   "cell_type": "code",
   "execution_count": 26,
   "metadata": {},
   "outputs": [],
   "source": [
    "text_clf = Pipeline([\n",
    "    ('vect', CountVectorizer()),\n",
    "    ('tfidf', TfidfTransformer()),\n",
    "    ('clf', SGDClassifier(loss='hinge', penalty='l2',\n",
    "                          alpha=1e-3, random_state=1337,\n",
    "                          max_iter=5, tol=None)),\n",
    "])\n",
    "\n",
    "parameters = {\n",
    "    'vect__ngram_range': [(1, 1), (1, 2)],\n",
    "    'vect__min_df': (0.001, 0.005, 0.01, 0.05, 0.1, 0.15, 0.2),\n",
    "    'vect__max_features': range(500, 10000, 500),\n",
    "    'tfidf__use_idf': (True, False),\n",
    "    'clf__alpha': (1e-2, 1e-3),\n",
    "}\n",
    "\n",
    "gs_clf = GridSearchCV(text_clf, parameters, cv=5, n_jobs=-1)"
   ]
  },
  {
   "cell_type": "code",
   "execution_count": 27,
   "metadata": {},
   "outputs": [
    {
     "data": {
      "text/plain": [
       "GridSearchCV(cv=5,\n",
       "             estimator=Pipeline(steps=[('vect', CountVectorizer()),\n",
       "                                       ('tfidf', TfidfTransformer()),\n",
       "                                       ('clf',\n",
       "                                        SGDClassifier(alpha=0.001, max_iter=5,\n",
       "                                                      random_state=1337,\n",
       "                                                      tol=None))]),\n",
       "             n_jobs=-1,\n",
       "             param_grid={'clf__alpha': (0.01, 0.001),\n",
       "                         'tfidf__use_idf': (True, False),\n",
       "                         'vect__max_features': range(500, 10000, 500),\n",
       "                         'vect__min_df': (0.001, 0.005, 0.01, 0.05, 0.1, 0.15,\n",
       "                                          0.2),\n",
       "                         'vect__ngram_range': [(1, 1), (1, 2)]})"
      ]
     },
     "execution_count": 27,
     "metadata": {},
     "output_type": "execute_result"
    }
   ],
   "source": [
    "gs_clf.fit(X_train, y_train)"
   ]
  },
  {
   "cell_type": "code",
   "execution_count": 28,
   "metadata": {},
   "outputs": [
    {
     "data": {
      "text/plain": [
       "0.7"
      ]
     },
     "execution_count": 28,
     "metadata": {},
     "output_type": "execute_result"
    }
   ],
   "source": [
    "gs_clf.best_score_"
   ]
  },
  {
   "cell_type": "code",
   "execution_count": 29,
   "metadata": {},
   "outputs": [
    {
     "name": "stdout",
     "output_type": "stream",
     "text": [
      "clf__alpha: 0.001\n",
      "tfidf__use_idf: True\n",
      "vect__max_features: 1500\n",
      "vect__min_df: 0.05\n",
      "vect__ngram_range: (1, 1)\n"
     ]
    }
   ],
   "source": [
    "for param_name in sorted(parameters.keys()):\n",
    "    print(\"%s: %r\" % (param_name, gs_clf.best_params_[param_name]))\n",
    "\n",
    "print(\"Stats for optimized svm\")\n",
    "\n",
    "pred = gs_clf.predict(X_test)\n",
    "precision, recall, f1, _ = precision_recall_fscore_support(y_test, pred, labels=[True, False])\n",
    "print(\"Precision:\", precision)\n",
    "print(\"recall:\", recall)\n",
    "print(\"f1:\", f1)\n",
    "print(\"===============================================================\")"
   ]
  },
  {
   "cell_type": "markdown",
   "metadata": {},
   "source": [
    "Testing for Gaussian Naive Bayes"
   ]
  },
  {
   "cell_type": "code",
   "execution_count": 31,
   "metadata": {},
   "outputs": [],
   "source": [
    "from sklearn.naive_bayes import GaussianNB\n",
    "import numpy as np\n",
    "\n",
    "gnb_text_clf = Pipeline([\n",
    "    ('vect', CountVectorizer()),\n",
    "    ('tfidf', TfidfTransformer()),\n",
    "    ('clf', GaussianNB()),\n",
    "])\n",
    "\n",
    "gnb_parameters = {\n",
    "    'vect__ngram_range': [(1, 1), (1, 2)],\n",
    "    'vect__min_df': (0.001, 0.005, 0.01, 0.05, 0.1, 0.15, 0.2),\n",
    "    'vect__max_features': range(500, 10000, 500),\n",
    "    'tfidf__use_idf': (True, False),\n",
    "    'clf__var_smoothing': np.logspace(0,-9, num=100),\n",
    "}\n",
    "\n",
    "gs_gnb_clf = GridSearchCV(gnb_text_clf, gnb_parameters, cv=5, n_jobs=-1)"
   ]
  },
  {
   "cell_type": "code",
   "execution_count": 32,
   "metadata": {},
   "outputs": [],
   "source": [
    "gs_gnb_clf.fit(X_train, y_train)"
   ]
  },
  {
   "cell_type": "code",
   "execution_count": null,
   "metadata": {},
   "outputs": [],
   "source": [
    "for param_name in sorted(gnb_parameters.keys()):\n",
    "    print(\"%s: %r\" % (param_name, gs_gnb_clf.best_params_[param_name]))\n",
    "\n",
    "print(\"Stats for optimized gnb\")\n",
    "\n",
    "pred = gs_clf.predict(X_test)\n",
    "precision, recall, f1, _ = precision_recall_fscore_support(y_test, pred, labels=[True, False])\n",
    "print(\"Precision:\", precision)\n",
    "print(\"recall:\", recall)\n",
    "print(\"f1:\", f1)\n",
    "print(\"===============================================================\")"
   ]
  }
 ],
 "metadata": {
  "kernelspec": {
   "display_name": "Python 3.8.10 64-bit",
   "language": "python",
   "name": "python3"
  },
  "language_info": {
   "codemirror_mode": {
    "name": "ipython",
    "version": 3
   },
   "file_extension": ".py",
   "mimetype": "text/x-python",
   "name": "python",
   "nbconvert_exporter": "python",
   "pygments_lexer": "ipython3",
   "version": "3.8.10"
  },
  "orig_nbformat": 4,
  "vscode": {
   "interpreter": {
    "hash": "916dbcbb3f70747c44a77c7bcd40155683ae19c65e1c03b4aa3499c5328201f1"
   }
  }
 },
 "nbformat": 4,
 "nbformat_minor": 2
}
