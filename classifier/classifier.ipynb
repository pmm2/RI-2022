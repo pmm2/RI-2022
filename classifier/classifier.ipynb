{
 "cells": [
  {
   "cell_type": "markdown",
   "metadata": {},
   "source": [
    "Loading the dataset"
   ]
  },
  {
   "cell_type": "code",
   "execution_count": 96,
   "metadata": {},
   "outputs": [
    {
     "name": "stdout",
     "output_type": "stream",
     "text": [
      "Quantidade total de sites: 120\n"
     ]
    }
   ],
   "source": [
    "import json\n",
    "\n",
    "data_file = open(\"./training_data_set.json\")\n",
    "raw_data = json.load(data_file)\n",
    "data_file.close()\n",
    "\n",
    "sites = raw_data.get(\"sitesAndTags\", [])\n",
    "print(\"Quantidade total de sites:\", len(sites))"
   ]
  },
  {
   "cell_type": "markdown",
   "metadata": {},
   "source": [
    "Treating raw data for training models.\n",
    "First, we need to actually retrieve the content present in the url.\n",
    "Then, we strip the content of its HTML and style tags, as they are irrelevant to our classification. For this, we use BeautifulSoup decompose function."
   ]
  },
  {
   "cell_type": "code",
   "execution_count": 97,
   "metadata": {},
   "outputs": [
    {
     "name": "stdout",
     "output_type": "stream",
     "text": [
      "https://www.bigboygames.com.br/jogo-fallen-legion-revenants-vanguard-edition-nintendo-switch\n",
      "https://www.bigboygames.com.br/world-of-warriors-ps4-4955-p993556\n",
      "https://www.bigboygames.com.br/jogo-monster-hunter-world-seminovo-ps4-11807-br-p1006227\n",
      "https://www.bigboygames.com.br/jogo-back-4-blood-xbox-one\n",
      "https://www.bigboygames.com.br/jogo-far-cry-6-xbox-one-p1006787\n",
      "https://www.bigboygames.com.br/controle-baseus-sem-fio-transparente-seminovo-nintendo-switch\n",
      "https://www.bigboygames.com.br/cartao-xbox-live-brasil-r200-5598-p995690\n",
      "https://www.bigboygames.com.br/case-zelda-botw-seminovo-nintendo-switch-lite-15816\n",
      "https://www.bigboygames.com.br/console-nintendo-switch-lite-amarelo-seminovo-16101\n",
      "https://www.bigboygames.com.br/case-protetora-nintendo-swtich-lite-cinza-amarelo-14940\n",
      "https://www.ibyte.com.br/jogo-hades-xbox/p\n",
      "https://www.ibyte.com.br/marvel-s-spider-man-miles-morales-ps5/p\n",
      "https://www.ibyte.com.br/game-fifa-18-xbox-one/p\n",
      "https://www.shockgames.com.br/produto/horizon-zero-dawn-forbidden-west-ps5.html\n",
      "https://www.shockgames.com.br/fifa-22-ps5\n",
      "https://www.shockgames.com.br/demons-souls-ps5\n",
      "https://www.ibyte.com.br/controle-gamer-multilaser-warrior-takeo-bluetooth-js088/p\n",
      "https://www.ibyte.com.br/headset-gamer-sem-fio-microsoft-xbox-series-x-s-tll-00008/p\n",
      "https://www.ibyte.com.br/placa-de-video-galax-geforce-rtx-2060-plus-12gb-gddr6-192-bit-1-click-oc-ray-tracing-26nrl7hp68nc/p\n",
      "https://www.shockgames.com.br/controle-dualsense-ps5\n",
      "https://www.shockgames.com.br/produto/quadro-valorant-325-x-43cm.html\n",
      "https://www.shockgames.com.br/produto/funko-pop-scooby-doo-shaggy-626.html\n",
      "https://www.shockgames.com.br/produto/estatua-tanjiro-kamado-i-maximatic.html\n",
      "https://lojaarenagames.com.br/super-mario-odyssey-nintendo-switch-jogo-midia-fisica/\n",
      "https://lojaarenagames.com.br/pes-2013-ps3-1-riscos-com-detalhe/\n",
      "https://lojaarenagames.com.br/apache-air-assault-ps3/\n",
      "https://lojaarenagames.com.br/adventure-time-as-investigacoes-de-finn-e-jake-ps3-novo/\n",
      "https://lojaarenagames.com.br/alex-kidd-in-miracle-world-dx-ps4-com-chaveiro-jogo-midia-fisica-seminovo/\n",
      "https://lojaarenagames.com.br/funko-pop-caterpie-pokemon/\n",
      "https://lojaarenagames.com.br/funko-pop-keyleth-605-critical-role/\n",
      "https://lojaarenagames.com.br/funko-pop-games-doom-space-marine-90-elite-red-suit-vaulted-1-com-detalhe/\n",
      "https://lojaarenagames.com.br/caneca-oval-sonic-350ml/\n",
      "https://lojaarenagames.com.br/almofada-cavaleiros-do-zodiaco-formato-urna-fibra-poliester/\n",
      "https://www.vnsgames.com.br/ps4/aventura/little-nightmares-complete-edition-ps4\n",
      "https://www.vnsgames.com.br/ps4/acao/horizon-forbidden-west-ps4\n",
      "https://www.vnsgames.com.br/ps4/corrida/gran-turismo-7-ps4\n",
      "https://www.vnsgames.com.br/ps4/aventura/little-nightmares-complete-edition-ps4\n",
      "https://www.vnsgames.com.br/xbox-one/acao/ark-survival-evolved-xbox-one\n",
      "https://www.vnsgames.com.br/acessorios/controle-power-a-com-fio-nintendo-switch-pikachu-grey\n",
      "https://www.vnsgames.com.br/acessorios/controle-power-a-com-fio-nintendo-switch-pikachu-charge\n",
      "https://www.fastshop.com.br/web/p/d/HAEA3077AN_PRD/jogo-formula-1-br-para-ps4\n",
      "https://www.fastshop.com.br/web/p/d/SO00742601_PRD/jogo-deathloop-para-ps5\n",
      "https://www.fastshop.com.br/web/p/d/SO3005771_PRD/jogo-gran-turismo-7-edicao-standard-para-ps5\n",
      "https://www.fastshop.com.br/web/p/d/UB2036AL_PRD/jogo-far-cry-6-para-ps5\n",
      "https://www.fastshop.com.br/web/p/d/WRWG5353AN_PRD/jogo-back-4-blood-para-ps5\n",
      "https://www.fastshop.com.br/web/p/d/6869202829_PRD/computador-desktop-dell-vostro-3681-m20m-10a-geracao-intel-core-i5-8gb-1tb-windows-10-cpm-monitor-21\n",
      "https://www.fastshop.com.br/web/p/d/EXDM84X_PRD/refrigerador-multidoor-electrolux-de-03-portas-frost-free-com-579-litros-painel-eletronico-inox-dm84x\n",
      "https://www.fastshop.com.br/web/p/d/EXMI41S_PRD/micro-ondas-electrolux-com-31-litros-de-capacidade-prata-mi41s\n",
      "https://www.fastshop.com.br/web/p/d/SGLU32J590UQ_PRD/monitor-uhd-samsung-32-4k-hdmi-display-port-freesync-preto-serie-uj590\n",
      "https://www.fastshop.com.br/web/p/d/I4HISC1080BCO_PRD/camera-inteligente-wi-fi-compatvel-com-ios-versao-90-e-android-versao-50-e-controle-por-app-hi-geonav\n",
      "https://www.futuristicgames.com.br/horizon-forbidden-west-standard-edition-sony-ps5-fisico/p/MLB18506507?pdp_filters=category:MLB1144%7Cseller_id:161960254#position=2&search_layout=grid&type=item&tracking_id=e23b1583-7c0d-46fc-8fd5-6811ad0535bd\n",
      "https://www.futuristicgames.com.br/grand-theft-auto-v-standard-edition-rockstar-games-ps3-fisico/p/MLB6084030?pdp_filters=category:MLB1144%7Cseller_id:161960254#position=3&search_layout=grid&type=item&tracking_id=e23b1583-7c0d-46fc-8fd5-6811ad0535bd\n",
      "https://www.futuristicgames.com.br/far-cry-6-standard-edition-ubisoft-ps4-fisico/p/MLB18500304?pdp_filters=category:MLB1144%7Cseller_id:161960254#position=5&search_layout=grid&type=item&tracking_id=e23b1583-7c0d-46fc-8fd5-6811ad0535bd\n",
      "https://www.futuristicgames.com.br/the-legend-of-zelda-skyward-sword-25th-anniversary-special-edition-nintendo-wii-fisico/p/MLB15315759?pdp_filters=category:MLB1144%7Cseller_id:161960254#position=9&search_layout=grid&type=item&tracking_id=12948c8d-15c2-43b1-8a02-a8d88f061941\n",
      "https://www.futuristicgames.com.br/demons-souls-remake-standard-edition-sony-ps5-fisico/p/MLB16273091?pdp_filters=category:MLB1144%7Cseller_id:161960254#position=8&search_layout=grid&type=item&tracking_id=e23b1583-7c0d-46fc-8fd5-6811ad0535bd\n",
      "https://www.futuristicgames.com.br/controle-joystick-sem-fio-sony-playstation-dualsense-cfi-zct1-white-e-black/p/MLB16212928?pdp_filters=category:MLB1144%7Cseller_id:161960254#position=6&search_layout=grid&type=item&tracking_id=e23b1583-7c0d-46fc-8fd5-6811ad0535bd\n",
      "https://www.futuristicgames.com.br/controle-joystick-sem-fio-microsoft-xbox-wireless-controller-series-xs-shock-blue/p/MLB16268159?pdp_filters=category:MLB1144%7Cseller_id:161960254#position=4&search_layout=grid&type=item&tracking_id=e23b1583-7c0d-46fc-8fd5-6811ad0535bd\n",
      "https://www.futuristicgames.com.br/controle-joystick-sem-fio-sony-playstation-dualshock-4-magma-red/p/MLB10312333?pdp_filters=category:MLB1144%7Cseller_id:161960254#position=9&search_layout=grid&type=item&tracking_id=e23b1583-7c0d-46fc-8fd5-6811ad0535bd\n",
      "https://www.futuristicgames.com.br/microsoft-xbox-series-s-512gb-standard-cor-branco/p/MLB16650345?pdp_filters=category:MLB1144%7Cseller_id:161960254#position=1&search_layout=grid&type=item&tracking_id=e23b1583-7c0d-46fc-8fd5-6811ad0535bd\n",
      "https://www.futuristicgames.com.br/fone-de-ouvido-over-ear-gamer-sem-fio-playstation-pulse-3d-preto/p/MLB19038910?pdp_filters=category:MLB1144%7Cseller_id:161960254#position=11&search_layout=grid&type=item&tracking_id=e23b1583-7c0d-46fc-8fd5-6811ad0535bd\n",
      "https://www.futuristicgames.com.br/ghost-of-tsushima-standard-edition-sony-ps4-fisico/p/MLB15908185?pdp_filters=category:MLB1144%7Cseller_id:161960254#position=7&search_layout=grid&type=item&tracking_id=e23b1583-7c0d-46fc-8fd5-6811ad0535bd\n",
      "https://www.futuristicgames.com.br/ufc-3-standard-edition-electronic-arts-xbox-one-fisico/p/MLB10663958?pdp_filters=category:MLB1144%7Cseller_id:161960254#position=22&search_layout=grid&type=item&tracking_id=a55a9fa3-a45f-44ba-9d8f-1dbaab1f5fa5\n",
      "https://www.futuristicgames.com.br/street-fighter-v-champion-edition-capcom-ps4-fisico/p/MLB15509269?pdp_filters=category:MLB1144%7Cseller_id:161960254#position=7&search_layout=grid&type=item&tracking_id=a55a9fa3-a45f-44ba-9d8f-1dbaab1f5fa5\n",
      "https://www.futuristicgames.com.br/lego-marvels-avengers-standard-edition-warner-bros-ps4-fisico/p/MLB6141065?pdp_filters=category:MLB1144%7Cseller_id:161960254#position=9&search_layout=grid&type=item&tracking_id=a55a9fa3-a45f-44ba-9d8f-1dbaab1f5fa5\n",
      "https://www.futuristicgames.com.br/burnout-paradise-remastered-electronic-arts-ps4-fisico/p/MLB15259265?pdp_filters=category:MLB1144%7Cseller_id:161960254#position=14&search_layout=grid&type=item&tracking_id=a55a9fa3-a45f-44ba-9d8f-1dbaab1f5fa5\n",
      "https://www.futuristicgames.com.br/MLB-2204124250-kit-de-protecao-e-patins-infantil-tam-32-a-35-bbr-toys-r2943-_JM#position=3&search_layout=stack&type=item&tracking_id=60318171-262b-4db7-824b-cae433c37c16\n",
      "https://www.futuristicgames.com.br/MLB-1709204812-play-doh-kit-de-pintura-meu-pequeno-artista-da-fun-80059-_JM#position=1&search_layout=grid&type=item&tracking_id=8caed409-c581-417e-921a-25206f528056\n",
      "https://www.futuristicgames.com.br/barbeador-philips-oneblade-qp2510-verde-lima-e-cinza-marengo-100v240v/p/MLB15963600\n",
      "https://www.futuristicgames.com.br/roteador-repetidor-sistema-wi-fi-mesh-access-point-wisp-d-link-dir-842-preto-100v240v/p/MLB15994670\n",
      "https://www.futuristicgames.com.br/jogo-de-mesa-jogo-da-vida-com-aplicativo-estrela/p/MLB8938082\n",
      "https://www.shockgames.com.br/produto/metro-exodus-complete-edition-xbox.html\n",
      "https://www.shockgames.com.br/produto/estatua-my-hero-academia-hawks-banpresto.html\n",
      "https://www.ibyte.com.br/sackboy--uma-grande-aventura-ps5/p\n",
      "https://www.ibyte.com.br/cadeira-gamer-gt-black-com-almofadas-e-lombar/p\n",
      "https://www.bigboygames.com.br/jogo-paw-patrol-the-movie-adventure-city-calls-switch\n",
      "https://www.bigboygames.com.br/boneco-nba-lebron-james-los-angeles-lakers-16058\n",
      "https://www.ibyte.com.br/returnal-ps5/p\n",
      "https://www.ibyte.com.br/placa-de-video-geforce-gtx-1660-1-click-oc-6gb-gddr5-192bits-galax-60srh7dsy91c/p\n",
      "https://www.ibyte.com.br/ghost-of-tsushima-versao-do-diretor-ps5/p\n",
      "https://www.ibyte.com.br/smartphone-motorola-e32-64gb-4gb-ram-tela-6-5-camera-tripla-traseira-bateria-de-5000mah-rose/p\n",
      "https://lojaarenagames.com.br/zombie-army-4-day-one-edition-ps4-jogo-midia-fisica/\n",
      "https://lojaarenagames.com.br/funko-pop-television-la-casa-de-papel-el-profesor-915-clown/\n",
      "https://lojaarenagames.com.br/metal-gear-solid-v-ground-zeroes-ps3-2/\n",
      "https://lojaarenagames.com.br/pc-gamer-187-novo/\n",
      "https://www.futuristicgames.com.br/batman-return-to-arkham-standard-edition-warner-bros-xbox-one-fisico/p/MLB15755064?pdp_filters=category:MLB1144%7Cseller_id:161960254#position=34&search_layout=grid&type=item&tracking_id=68e8d942-ff0c-4536-a6ef-b46755ea4a43\n",
      "https://www.futuristicgames.com.br/MLB-1259585362-novo-brinquedo-boneco-mini-figura-ninjas-surpresa-dtc-4192-_JM#position=1&search_layout=grid&type=item&tracking_id=5b57e664-1345-48f4-98c1-1773035e3815\n",
      "https://www.futuristicgames.com.br/resident-evil-5-standard-edition-capcom-ps3-fisico/p/MLB6228701?pdp_filters=category:MLB1144%7Cseller_id:161960254#position=40&search_layout=grid&type=item&tracking_id=d0746d2d-5230-47b8-9ee4-bdf9b299b76c\n",
      "https://www.futuristicgames.com.br/MLB-1254876064-novo-mini-figura-de-acao-marvel-vingadores-hulk-hasbro-e4353-_JM#reco_item_pos=2&reco_backend=machinalis-seller-items&reco_backend_type=function&reco_client=vip-seller_items_above-shops&reco_id=1270dbc5-2ecc-4827-823b-d16286114b22\n",
      "https://www.shockgames.com.br/one-punch-man-a-hero-nobody-knows-xbox-one\n",
      "https://www.shockgames.com.br/produto/guitar-hero-live-usado-xbox-one.html\n",
      "https://www.shockgames.com.br/prey-xbox-one\n",
      "https://www.shockgames.com.br/produto/anthem-usado-xbox-one.html\n",
      "https://www.shockgames.com.br/nintendo-joy-con-lr-neon-redneon-blue\n",
      "https://www.shockgames.com.br/taco-gato-cabra-queijo-pizza\n",
      "https://www.shockgames.com.br/splendor\n",
      "https://www.shockgames.com.br/produto/headset-razer-kaira-x-xbox-one.html\n",
      "https://www.shockgames.com.br/persona-5-strikers-ps4\n",
      "https://www.shockgames.com.br/sonic-mania-plus-ps4\n",
      "https://www.shockgames.com.br/playstation-camera-hd-sony-ps5\n",
      "https://www.shockgames.com.br/playstation-5-sony\n",
      "https://www.shockgames.com.br/super-mario-3d-all-stars-switch\n",
      "https://www.ibyte.com.br/game-ufc-2-xbox-one/p\n",
      "https://www.ibyte.com.br/game-fifa-19-xbox-one/p\n",
      "https://www.ibyte.com.br/bloodborne-hits-ps4-p4da00730801fgm/p\n",
      "https://www.ibyte.com.br/knack-ps4-ps43000160/p\n",
      "https://www.ibyte.com.br/dreams-ps4-p4sa00737601fgm/p\n",
      "https://www.ibyte.com.br/caixa-de-som-jbl-go-2-bluetooth-a-prova-d-agua-3-1w-canela/p\n",
      "https://www.ibyte.com.br/caixa-de-som-jbl-boombox-2-bluetooth-squad-jblboombox2squadbr/p\n",
      "https://www.ibyte.com.br/microfone-hyperx-solocast/p\n",
      "https://www.ibyte.com.br/monitor-gamer-samsung-odyssey-24-fhd-144hz-1ms-com-ajuste-de-altura-hdmi-dp-vga-freesync-preto-serie-g3-lf24g35tfwlxzd/p\n",
      "https://www.ibyte.com.br/nintendo-switch-32gb-controle-jay-con-colorido/p\n",
      "https://www.fastshop.com.br/web/p/d/SOUNCHARTED5_PRD/jogo-uncharted-colecao-legado-dos-ladroes-para-ps5\n",
      "https://www.fastshop.com.br/web/p/d/SO711719545927_PRD/jogo-ratchet-clank-em-uma-outra-dimensao-para-ps5\n",
      "https://www.fastshop.com.br/web/p/d/3000842004_PRD/bee-simulator-ps4\n",
      "https://www.fastshop.com.br/web/p/d/3000842786_PRD/the-smurfs-mission-vileaf-smurftastic-edition-ps4\n",
      "https://www.fastshop.com.br/web/p/d/3000448185_PRD/kit-controle-dualshock-3-wireless-compatvel-com-ps3-2-unidades-branco\n",
      "https://www.fastshop.com.br/web/p/d/JBLENDURACEPTO_PRD/fone-de-ouvido-bluetooth-jbl-endurance-race-tws-preto-ate-30h-de-bateria-a-prova-dagua-e-resistente-a-poeira-ip67\n",
      "https://www.fastshop.com.br/web/p/d/SOCJ3006656B14/playstation-5-com-825-gb-e-01-controle-dualsense-sem-fio-controle-sem-fio-dualsense-sony-starlight-blue\n",
      "https://www.fastshop.com.br/web/p/d/SO3005769BCO_PRD/controle-de-mdia-para-playstation5-sony\n",
      "https://www.fastshop.com.br/web/p/d/L571740COL_PRD/lego-ninjago-o-electromech-de-jay-71740\n"
     ]
    }
   ],
   "source": [
    "from sklearn.model_selection import train_test_split\n",
    "import requests\n",
    "from bs4 import BeautifulSoup\n",
    "\n",
    "# Function to remove tags\n",
    "def remove_tags(html):\n",
    "    soup = BeautifulSoup(html, \"html.parser\")\n",
    "  \n",
    "    for data in soup(['style', 'script']):\n",
    "        data.decompose()\n",
    "  \n",
    "    return ' '.join(soup.stripped_strings)\n",
    "\n",
    "sites_contents = []\n",
    "y_sites = []\n",
    "\n",
    "for [url, usefulness] in sites:\n",
    "    r = requests.get(url)\n",
    "    filtered_content = remove_tags(r.content)\n",
    "    sites_contents.append(filtered_content)\n",
    "    y_sites.append(usefulness)\n",
    "    print(url)"
   ]
  },
  {
   "cell_type": "markdown",
   "metadata": {},
   "source": [
    "Lastly, we implement feature selection. For this kind of data, that is, documents composed of many words, using bag of words is a sensible approach.\n",
    "It vectorizes whole documents by storing the amount of times each unique word in the vocabulary has appeared on it, using a very efficient data structure for spending less memory (sparse matrices from scipy).\n",
    "Even more, we will eliminate portuguese stopwords from the documents, and limit the bag of words' max features to be 500."
   ]
  },
  {
   "cell_type": "code",
   "execution_count": 98,
   "metadata": {},
   "outputs": [
    {
     "name": "stdout",
     "output_type": "stream",
     "text": [
      "Requirement already satisfied: nltk in /home/alps2/.local/lib/python3.8/site-packages (3.7)\n",
      "Requirement already satisfied: click in /home/alps2/.local/lib/python3.8/site-packages (from nltk) (8.1.2)\n",
      "Requirement already satisfied: regex>=2021.8.3 in /home/alps2/.local/lib/python3.8/site-packages (from nltk) (2022.7.25)\n",
      "Requirement already satisfied: tqdm in /usr/local/lib/python3.8/dist-packages (from nltk) (4.62.3)\n",
      "Requirement already satisfied: joblib in /usr/local/lib/python3.8/dist-packages (from nltk) (1.1.0)\n",
      "Note: you may need to restart the kernel to use updated packages.\n"
     ]
    },
    {
     "name": "stderr",
     "output_type": "stream",
     "text": [
      "[nltk_data] Downloading package stopwords to /home/alps2/nltk_data...\n",
      "[nltk_data]   Package stopwords is already up-to-date!\n"
     ]
    }
   ],
   "source": [
    "%pip install nltk\n",
    "import nltk\n",
    "nltk.download('stopwords')\n",
    "from nltk.corpus import stopwords"
   ]
  },
  {
   "cell_type": "code",
   "execution_count": 99,
   "metadata": {},
   "outputs": [
    {
     "data": {
      "text/plain": [
       "(120, 6956)"
      ]
     },
     "execution_count": 99,
     "metadata": {},
     "output_type": "execute_result"
    }
   ],
   "source": [
    "from sklearn.feature_extraction.text import CountVectorizer\n",
    "\n",
    "count_vect = CountVectorizer(stop_words=stopwords.words('portuguese'))\n",
    "X_sites = count_vect.fit_transform(sites_contents)\n",
    "X_sites.shape"
   ]
  },
  {
   "cell_type": "markdown",
   "metadata": {},
   "source": [
    "Now, it's a good idea to normalize this vector. As it stands, it counts the absolute number of occurrences. But some documents may be longer than others and this fact can cause inaccuracies down the line. We will transform the occurrences count into a frequency measure (term frequency - tf)."
   ]
  },
  {
   "cell_type": "code",
   "execution_count": 100,
   "metadata": {},
   "outputs": [
    {
     "data": {
      "text/plain": [
       "(120, 6956)"
      ]
     },
     "execution_count": 100,
     "metadata": {},
     "output_type": "execute_result"
    }
   ],
   "source": [
    "from sklearn.feature_extraction.text import TfidfTransformer\n",
    "\n",
    "# We downscale the weight of too frequent words by turning the use_idf to True.\n",
    "tf_transformer = TfidfTransformer(use_idf=False).fit(X_sites)\n",
    "X_sites_tf = tf_transformer.transform(X_sites)\n",
    "X_sites_tf.shape"
   ]
  },
  {
   "cell_type": "code",
   "execution_count": 101,
   "metadata": {},
   "outputs": [
    {
     "name": "stdout",
     "output_type": "stream",
     "text": [
      "Quantidade de sites para treino: 90\n",
      "Quantidade de sites para teste: 30\n"
     ]
    }
   ],
   "source": [
    "X_train, X_test, y_train, y_test = train_test_split(X_sites_tf, y_sites, random_state=1337)\n",
    "X_train = X_train.toarray()\n",
    "X_test = X_test.toarray()\n",
    "\n",
    "print(\"Quantidade de sites para treino:\", len(X_train))\n",
    "print(\"Quantidade de sites para teste:\", len(X_test))"
   ]
  },
  {
   "cell_type": "markdown",
   "metadata": {},
   "source": [
    "\n",
    "If more sites need to be added to the list of bag of words, We need to call transform instead of fit_transform with count_vect.\n",
    "The following function should prove useful for this."
   ]
  },
  {
   "cell_type": "code",
   "execution_count": 102,
   "metadata": {},
   "outputs": [],
   "source": [
    "def generate_bow_list_from_urls(url_list: list):\n",
    "    \"\"\"\n",
    "    Function to get the content and process it properly for predictions.\n",
    "    If training is True, call fit_transform to generate\n",
    "    \"\"\"\n",
    "    contents_list = []\n",
    "\n",
    "    for url in url_list:\n",
    "        r = requests.get(url)\n",
    "        filtered_content = remove_tags(r.content)\n",
    "        contents_list.append(filtered_content)\n",
    "    \n",
    "    filtered_contents_bow = count_vect.transform(contents_list)\n",
    "    filtered_contents_bow_tf = tf_transformer.transform(filtered_contents_bow)\n",
    "    return filtered_contents_bow_tf"
   ]
  },
  {
   "cell_type": "markdown",
   "metadata": {},
   "source": [
    "Creating a holding dict for all models predictions."
   ]
  },
  {
   "cell_type": "code",
   "execution_count": 103,
   "metadata": {},
   "outputs": [],
   "source": [
    "predictions = {}"
   ]
  },
  {
   "cell_type": "markdown",
   "metadata": {},
   "source": [
    "Now we need to choose a model and fit it with the training set.\n",
    "There are many choices here. We will start with basic gaussian naive bayes, and change later to different models to see how they fare."
   ]
  },
  {
   "cell_type": "code",
   "execution_count": 104,
   "metadata": {},
   "outputs": [],
   "source": [
    "from sklearn.naive_bayes import GaussianNB\n",
    "\n",
    "gnb = GaussianNB()\n",
    "gnb.fit(X_train, y_train)\n",
    "predictions['gaussian_naive_bayes'] = gnb.predict(X_test)"
   ]
  },
  {
   "cell_type": "markdown",
   "metadata": {},
   "source": [
    "Now testing with Multinomial Naive Bayes."
   ]
  },
  {
   "cell_type": "code",
   "execution_count": 105,
   "metadata": {},
   "outputs": [],
   "source": [
    "from sklearn.naive_bayes import MultinomialNB\n",
    "\n",
    "mnnb = MultinomialNB()\n",
    "mnnb.fit(X_train, y_train)\n",
    "predictions['multinomial_naive_bayes'] = mnnb.predict(X_test)"
   ]
  },
  {
   "cell_type": "markdown",
   "metadata": {},
   "source": [
    "Now testing with decision tree."
   ]
  },
  {
   "cell_type": "code",
   "execution_count": 106,
   "metadata": {},
   "outputs": [],
   "source": [
    "from sklearn.tree import DecisionTreeClassifier\n",
    "dt =  DecisionTreeClassifier()\n",
    "dt.fit(X_train, y_train)\n",
    "predictions['decision_tree'] = dt.predict(X_test)"
   ]
  },
  {
   "cell_type": "markdown",
   "metadata": {},
   "source": [
    "Calculating accuraccy, recall and f1 score of models"
   ]
  },
  {
   "cell_type": "code",
   "execution_count": 107,
   "metadata": {},
   "outputs": [
    {
     "name": "stdout",
     "output_type": "stream",
     "text": [
      "Stats for gaussian_naive_bayes\n",
      "Precision: [0.8 0.6]\n",
      "recall: [0.66666667 0.75      ]\n",
      "f1: [0.72727273 0.66666667]\n",
      "===============================================================\n",
      "Stats for multinomial_naive_bayes\n",
      "Precision: [0.47058824 0.23076923]\n",
      "recall: [0.44444444 0.25      ]\n",
      "f1: [0.45714286 0.24      ]\n",
      "===============================================================\n",
      "Stats for decision_tree\n",
      "Precision: [0.83333333 0.55555556]\n",
      "recall: [0.55555556 0.83333333]\n",
      "f1: [0.66666667 0.66666667]\n",
      "===============================================================\n"
     ]
    }
   ],
   "source": [
    "from sklearn.metrics import precision_recall_fscore_support\n",
    "\n",
    "for model_name in predictions:\n",
    "    print(\"Stats for\", model_name)\n",
    "\n",
    "    pred = predictions[model_name]\n",
    "    precision, recall, f1, _ = precision_recall_fscore_support(y_test, pred, labels=[True, False])\n",
    "    print(\"Precision:\", precision)\n",
    "    print(\"recall:\", recall)\n",
    "    print(\"f1:\", f1)\n",
    "    print(\"===============================================================\")"
   ]
  },
  {
   "cell_type": "markdown",
   "metadata": {},
   "source": [
    "Consideramos que para o nosso classificador, a precisão é mais relevante que o recall. Basicamente, a precisão é a capacidade do modelo de não marcar um exemplo negativo como positivo. E Recall é capacidade de classificar corretamente todos os exemplos positivos. Para um web-scrapper, deixar de marcar alguns sites corretos como tal não é uma perda tão grande, mas marcar sites incorretos, é."
   ]
  }
 ],
 "metadata": {
  "kernelspec": {
   "display_name": "Python 3.8.10 64-bit",
   "language": "python",
   "name": "python3"
  },
  "language_info": {
   "codemirror_mode": {
    "name": "ipython",
    "version": 3
   },
   "file_extension": ".py",
   "mimetype": "text/x-python",
   "name": "python",
   "nbconvert_exporter": "python",
   "pygments_lexer": "ipython3",
   "version": "3.8.10"
  },
  "orig_nbformat": 4,
  "vscode": {
   "interpreter": {
    "hash": "916dbcbb3f70747c44a77c7bcd40155683ae19c65e1c03b4aa3499c5328201f1"
   }
  }
 },
 "nbformat": 4,
 "nbformat_minor": 2
}
