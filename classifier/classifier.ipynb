{
 "cells": [
  {
   "cell_type": "markdown",
   "metadata": {},
   "source": [
    "Loading the dataset"
   ]
  },
  {
   "cell_type": "code",
   "execution_count": 22,
   "metadata": {},
   "outputs": [],
   "source": [
    "import json\n",
    "\n",
    "data_file = open(\"./data_sets.json\")\n",
    "raw_data = json.load(data_file)\n",
    "data_file.close()\n",
    "\n",
    "training_sites = raw_data.get(\"trainingSitesAndTags\", {})"
   ]
  },
  {
   "cell_type": "markdown",
   "metadata": {},
   "source": [
    "Treating raw data for training models.\n",
    "First, we need to actually retrieve the content present in the url.\n",
    "Then, we strip the content of its HTML and style tags, as they are irrelevant to our classification. For this, we use BeautifulSoup decompose function."
   ]
  },
  {
   "cell_type": "code",
   "execution_count": 23,
   "metadata": {},
   "outputs": [
    {
     "name": "stdout",
     "output_type": "stream",
     "text": [
      "https://www.magazineluiza.com.br/jogo-rayman-origins-xbox-360-xbox-one-ubisoft/p/daac6j943b/ga/javt/\n",
      "https://www.magazineluiza.com.br/cyberpunk-2077-para-xbox-one-cd-projekt-red/p/043186100/ga/jaco/\n",
      "https://www.magazineluiza.com.br/battlefield-2042-para-xbox-one-e-xbox-series-x-electronic-arts/p/231247900/ga/bttf/\n",
      "https://www.magazineluiza.com.br/mortal-kombat-11-para-ps4-netherrealm-studios/p/221812200/ga/glut/\n",
      "https://www.magazineluiza.com.br/the-last-of-us-part-ii-para-ps4-naughty-dog/p/043185800/ga/jaco/\n",
      "https://www.magazineluiza.com.br/playstation-5-825gb-1-controle-branco-sony-com-horizon-forbidden-west/p/235382200/ga/gps5/\n",
      "https://www.magazineluiza.com.br/playstation-5-825gb-1-controle-branco-sony-com-horizon-forbidden-west-3-jogos/p/229762200/ga/otga/\n",
      "https://www.magazineluiza.com.br/celular-smartphone-multilaser-f-p9130-tela-55-sensor-digital-32gb-ram-1gbl-preto-3g/p/fdfjc47dfc/te/smuf/\n",
      "https://www.magazineluiza.com.br/xbox-series-s-rrs-00006-512gb-1-controle-branco-microsoft/p/cf6cb781cg/ga/xbss/\n",
      "https://www.magazineluiza.com.br/xbox-series-x-2020-nova-geracao-1tb-ssd-1-controle-preto-controle-sem-fio-branco-halo-infinite/p/229602200/ga/xbsx/\n",
      "https://www.bigboygames.com.br/jogo-fallen-legion-revenants-vanguard-edition-nintendo-switch\n",
      "https://www.bigboygames.com.br/world-of-warriors-ps4-4955-p993556\n",
      "https://www.bigboygames.com.br/jogo-monster-hunter-world-seminovo-ps4-11807-br-p1006227\n",
      "https://www.bigboygames.com.br/jogo-back-4-blood-xbox-one\n",
      "https://www.bigboygames.com.br/jogo-far-cry-6-xbox-one-p1006787\n",
      "https://www.bigboygames.com.br/controle-baseus-sem-fio-transparente-seminovo-nintendo-switch\n",
      "https://www.bigboygames.com.br/cartao-xbox-live-brasil-r200-5598-p995690\n",
      "https://www.bigboygames.com.br/case-zelda-botw-seminovo-nintendo-switch-lite-15816\n",
      "https://www.bigboygames.com.br/console-nintendo-switch-lite-amarelo-seminovo-16101\n",
      "https://www.bigboygames.com.br/case-protetora-nintendo-swtich-lite-cinza-amarelo-14940\n",
      "https://www.ibyte.com.br/jogo-hades-xbox/p\n",
      "https://www.ibyte.com.br/marvel-s-spider-man-miles-morales-ps5/p\n",
      "https://www.shockgames.com.br/produto/horizon-zero-dawn-forbidden-west-ps5.html\n",
      "https://www.shockgames.com.br/fifa-22-ps5\n",
      "https://www.shockgames.com.br/demons-souls-ps5\n",
      "https://www.ibyte.com.br/controle-gamer-multilaser-warrior-takeo-bluetooth-js088/p\n",
      "https://www.ibyte.com.br/headset-gamer-sem-fio-microsoft-xbox-series-x-s-tll-00008/p\n",
      "https://www.shockgames.com.br/controle-dualsense-ps5\n",
      "https://www.shockgames.com.br/produto/quadro-valorant-325-x-43cm.html\n",
      "https://www.shockgames.com.br/produto/funko-pop-scooby-doo-shaggy-626.html\n",
      "https://www.shockgames.com.br/produto/estatua-tanjiro-kamado-i-maximatic.html\n",
      "https://lojaarenagames.com.br/super-mario-odyssey-nintendo-switch-jogo-midia-fisica/\n",
      "https://lojaarenagames.com.br/pes-2013-ps3-1-riscos-com-detalhe/\n",
      "https://lojaarenagames.com.br/apache-air-assault-ps3/\n",
      "https://lojaarenagames.com.br/adventure-time-as-investigacoes-de-finn-e-jake-ps3-novo/\n",
      "https://lojaarenagames.com.br/alex-kidd-in-miracle-world-dx-ps4-com-chaveiro-jogo-midia-fisica-seminovo/\n",
      "https://lojaarenagames.com.br/funko-pop-caterpie-pokemon/\n",
      "https://lojaarenagames.com.br/funko-pop-keyleth-605-critical-role/\n",
      "https://lojaarenagames.com.br/funko-pop-games-doom-space-marine-90-elite-red-suit-vaulted-1-com-detalhe/\n",
      "https://lojaarenagames.com.br/caneca-oval-sonic-350ml/\n",
      "https://lojaarenagames.com.br/almofada-cavaleiros-do-zodiaco-formato-urna-fibra-poliester/\n",
      "https://www.vnsgames.com.br/ps4/aventura/little-nightmares-complete-edition-ps4\n",
      "https://www.vnsgames.com.br/ps4/acao/horizon-forbidden-west-ps4\n",
      "https://www.vnsgames.com.br/ps4/corrida/gran-turismo-7-ps4\n",
      "https://www.vnsgames.com.br/ps4/aventura/little-nightmares-complete-edition-ps4\n",
      "https://www.vnsgames.com.br/xbox-one/acao/ark-survival-evolved-xbox-one\n",
      "https://www.vnsgames.com.br/acessorios/controle-power-a-com-fio-nintendo-switch-pikachu-grey\n",
      "https://www.vnsgames.com.br/acessorios/controle-power-a-com-fio-nintendo-switch-pikachu-charge\n",
      "https://www.fastshop.com.br/web/p/d/HAEA3077AN_PRD/jogo-formula-1-br-para-ps4\n",
      "https://www.fastshop.com.br/web/p/d/SO00742601_PRD/jogo-deathloop-para-ps5\n",
      "https://www.fastshop.com.br/web/p/d/SO3005771_PRD/jogo-gran-turismo-7-edicao-standard-para-ps5\n",
      "https://www.fastshop.com.br/web/p/d/UB2036AL_PRD/jogo-far-cry-6-para-ps5\n",
      "https://www.fastshop.com.br/web/p/d/WRWG5353AN_PRD/jogo-back-4-blood-para-ps5\n",
      "https://www.fastshop.com.br/web/p/d/6869202829_PRD/computador-desktop-dell-vostro-3681-m20m-10a-geracao-intel-core-i5-8gb-1tb-windows-10-cpm-monitor-21\n",
      "https://www.fastshop.com.br/web/p/d/EXDM84X_PRD/refrigerador-multidoor-electrolux-de-03-portas-frost-free-com-579-litros-painel-eletronico-inox-dm84x\n",
      "https://www.fastshop.com.br/web/p/d/EXMI41S_PRD/micro-ondas-electrolux-com-31-litros-de-capacidade-prata-mi41s\n",
      "https://www.fastshop.com.br/web/p/d/SGLU32J590UQ_PRD/monitor-uhd-samsung-32-4k-hdmi-display-port-freesync-preto-serie-uj590\n",
      "https://www.fastshop.com.br/web/p/d/I4HISC1080BCO_PRD/camera-inteligente-wi-fi-compatvel-com-ios-versao-90-e-android-versao-50-e-controle-por-app-hi-geonav\n"
     ]
    }
   ],
   "source": [
    "from sklearn.model_selection import train_test_split\n",
    "import requests\n",
    "from bs4 import BeautifulSoup\n",
    "\n",
    "# Function to remove tags\n",
    "def remove_tags(html):\n",
    "    soup = BeautifulSoup(html, \"html.parser\")\n",
    "  \n",
    "    for data in soup(['style', 'script']):\n",
    "        data.decompose()\n",
    "  \n",
    "    return ' '.join(soup.stripped_strings)\n",
    "\n",
    "sites_contents = []\n",
    "y_sites = []\n",
    "\n",
    "for [url, usefulness] in training_sites:\n",
    "    r = requests.get(url)\n",
    "    filtered_content = remove_tags(r.content)\n",
    "    sites_contents.append(filtered_content)\n",
    "    y_sites.append(usefulness)\n",
    "    # print(url)"
   ]
  },
  {
   "cell_type": "markdown",
   "metadata": {},
   "source": [
    "Lastly, we implement feature selection. For this kind of data, that is, documents composed of many words, using bag of words is a sensible approach.\n",
    "It vectorizes whole documents by storing the amount of times each unique word in the vocabulary has appeared on it, using a very efficient data structure for spending less memory (sparse matrices from scipy)."
   ]
  },
  {
   "cell_type": "code",
   "execution_count": 24,
   "metadata": {},
   "outputs": [
    {
     "data": {
      "text/plain": [
       "(58, 5261)"
      ]
     },
     "execution_count": 24,
     "metadata": {},
     "output_type": "execute_result"
    }
   ],
   "source": [
    "from sklearn.feature_extraction.text import CountVectorizer\n",
    "\n",
    "count_vect = CountVectorizer()\n",
    "X_sites = count_vect.fit_transform(sites_contents)\n",
    "X_sites.shape"
   ]
  },
  {
   "cell_type": "markdown",
   "metadata": {},
   "source": [
    "Now, it's a good idea to normalize this vector. As it stands, it counts the absolute number of occurrences. But some documents may be longer than others and this fact can cause inaccuracies down the line. We will transform the occurrences count into a frequency measure (term frequency - tf)."
   ]
  },
  {
   "cell_type": "code",
   "execution_count": 25,
   "metadata": {},
   "outputs": [
    {
     "data": {
      "text/plain": [
       "(58, 5261)"
      ]
     },
     "execution_count": 25,
     "metadata": {},
     "output_type": "execute_result"
    }
   ],
   "source": [
    "from sklearn.feature_extraction.text import TfidfTransformer\n",
    "\n",
    "# We downscale the weight of too frequent words by turning the use_idf to True.\n",
    "tf_transformer = TfidfTransformer(use_idf=False).fit(X_sites)\n",
    "X_sites_tf = tf_transformer.transform(X_sites)\n",
    "X_sites_tf.shape"
   ]
  },
  {
   "cell_type": "code",
   "execution_count": 26,
   "metadata": {},
   "outputs": [],
   "source": [
    "X_train, X_test, y_train, y_test = train_test_split(X_sites_tf, y_sites, random_state=1337)"
   ]
  },
  {
   "cell_type": "markdown",
   "metadata": {},
   "source": [
    "Now we need to choose a model and fit it with the training set.\n",
    "There are many choices here. We will start with basic gaussian naive bayes, and change later to a specific variant, the multinomial naive bayes, that is said to be the most suitable for this task."
   ]
  },
  {
   "cell_type": "code",
   "execution_count": 27,
   "metadata": {},
   "outputs": [
    {
     "data": {
      "text/plain": [
       "GaussianNB()"
      ]
     },
     "execution_count": 27,
     "metadata": {},
     "output_type": "execute_result"
    }
   ],
   "source": [
    "from sklearn.naive_bayes import GaussianNB\n",
    "\n",
    "gnb = GaussianNB()\n",
    "gnb.fit(X_train.toarray(), y_train)"
   ]
  },
  {
   "cell_type": "code",
   "execution_count": 28,
   "metadata": {},
   "outputs": [],
   "source": [
    "def unzip_list(l):\n",
    "    \"\"\" Function to unzip list \"\"\"\n",
    "    l1 = []\n",
    "    l2 = []\n",
    "    for [item1, item2] in l:\n",
    "        l1.append(item1)\n",
    "        l2.append(item2)\n",
    "    return l1, l2\n",
    "\n",
    "testing_sites = raw_data.get(\"testingSitesAndTags\", {})\n",
    "url_list, tags_list = unzip_list(testing_sites)"
   ]
  },
  {
   "cell_type": "markdown",
   "metadata": {},
   "source": [
    "We now call transform instead of fit_transform in count_vect."
   ]
  },
  {
   "cell_type": "code",
   "execution_count": 29,
   "metadata": {},
   "outputs": [],
   "source": [
    "def generate_bow_list_from_urls(url_list: list):\n",
    "    \"\"\"\n",
    "    Function to get the content and process it properly for predictions.\n",
    "    If training is True, call fit_transform to generate\n",
    "    \"\"\"\n",
    "    contents_list = []\n",
    "\n",
    "    for url in url_list:\n",
    "        r = requests.get(url)\n",
    "        filtered_content = remove_tags(r.content)\n",
    "        contents_list.append(filtered_content)\n",
    "    \n",
    "    filtered_contents_bow = count_vect.transform(contents_list)\n",
    "    filtered_contents_bow_tf = tf_transformer.transform(filtered_contents_bow)\n",
    "    return filtered_contents_bow_tf\n",
    "\n",
    "bow_list = generate_bow_list_from_urls(url_list)"
   ]
  },
  {
   "cell_type": "code",
   "execution_count": 30,
   "metadata": {},
   "outputs": [
    {
     "name": "stdout",
     "output_type": "stream",
     "text": [
      "acertou\n",
      "errou\n",
      "acertou\n",
      "acertou\n",
      "errou\n",
      "acertou\n",
      "acertou\n",
      "errou\n",
      "acertou\n",
      "acertou\n",
      "acertou\n",
      "acertou\n"
     ]
    }
   ],
   "source": [
    "def classify_usefulness(model, bow_list) -> list:\n",
    "    \"\"\"\n",
    "    Function to predict the usefulness of the contents of a url,\n",
    "    using the given model.\n",
    "    \"\"\"\n",
    "    predictions_list = model.predict(bow_list.toarray())\n",
    "    return predictions_list\n",
    "\n",
    "\n",
    "predictions = classify_usefulness(gnb, bow_list)\n",
    "for i in range(len(tags_list)):\n",
    "    if predictions[i] == tags_list[i]:\n",
    "        print(\"acertou\")\n",
    "    else:\n",
    "        print(\"errou\")"
   ]
  },
  {
   "cell_type": "markdown",
   "metadata": {},
   "source": [
    "Now testing with Multinomial Naive Bayes."
   ]
  },
  {
   "cell_type": "code",
   "execution_count": 31,
   "metadata": {},
   "outputs": [
    {
     "data": {
      "text/plain": [
       "MultinomialNB()"
      ]
     },
     "execution_count": 31,
     "metadata": {},
     "output_type": "execute_result"
    }
   ],
   "source": [
    "from sklearn.naive_bayes import MultinomialNB\n",
    "\n",
    "mnnb = MultinomialNB()\n",
    "mnnb.fit(X_train.toarray(), y_train)"
   ]
  },
  {
   "cell_type": "code",
   "execution_count": 32,
   "metadata": {},
   "outputs": [
    {
     "name": "stdout",
     "output_type": "stream",
     "text": [
      "acertou\n",
      "errou\n",
      "acertou\n",
      "acertou\n",
      "errou\n",
      "acertou\n",
      "acertou\n",
      "errou\n",
      "acertou\n",
      "acertou\n",
      "acertou\n",
      "acertou\n"
     ]
    }
   ],
   "source": [
    "classify_usefulness(mnnb, bow_list)\n",
    "for i in range(len(tags_list)):\n",
    "    if predictions[i] == tags_list[i]:\n",
    "        print(\"acertou\")\n",
    "    else:\n",
    "        print(\"errou\")"
   ]
  }
 ],
 "metadata": {
  "kernelspec": {
   "display_name": "Python 3.8.10 64-bit",
   "language": "python",
   "name": "python3"
  },
  "language_info": {
   "codemirror_mode": {
    "name": "ipython",
    "version": 3
   },
   "file_extension": ".py",
   "mimetype": "text/x-python",
   "name": "python",
   "nbconvert_exporter": "python",
   "pygments_lexer": "ipython3",
   "version": "3.8.10"
  },
  "orig_nbformat": 4,
  "vscode": {
   "interpreter": {
    "hash": "916dbcbb3f70747c44a77c7bcd40155683ae19c65e1c03b4aa3499c5328201f1"
   }
  }
 },
 "nbformat": 4,
 "nbformat_minor": 2
}
